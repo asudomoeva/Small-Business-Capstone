{
 "cells": [
  {
   "cell_type": "code",
   "execution_count": 72,
   "metadata": {
    "collapsed": true
   },
   "outputs": [],
   "source": [
    "import numpy as np\n",
    "import matplotlib.pyplot as plt\n",
    "import pandas as pd\n",
    "%matplotlib inline\n",
    "#using matplotlib’s ggplot style\n",
    "plt.style.use('ggplot')\n",
    "import seaborn as sns\n",
    "sns.set(color_codes=True)\n",
    "from sklearn.preprocessing import MinMaxScaler\n",
    "from sklearn import decomposition,linear_model\n",
    "from sklearn.model_selection import cross_val_score,cross_val_predict,GridSearchCV\n",
    "from sklearn.linear_model import RidgeClassifier,Lasso,LogisticRegression,LinearRegression,Ridge\n",
    "from sklearn.metrics import  mean_squared_error,confusion_matrix,accuracy_score,recall_score,f1_score,roc_auc_score,precision_recall_curve,roc_curve,auc\n",
    "from sklearn.ensemble import RandomForestRegressor\n",
    "import xgboost as xgb\n",
    "from xgboost.sklearn import XGBRegressor\n",
    "import warnings\n",
    "def ignore_warn(*args, **kwargs):\n",
    "    pass\n",
    "warnings.warn = ignore_warn\n",
    "from sklearn.feature_selection import RFE\n",
    "import statsmodels.api as sm\n",
    "from sklearn.pipeline import Pipeline\n",
    "from pprint import pprint\n",
    "from time import time\n",
    "from sklearn.feature_selection import SelectKBest\n",
    "from sklearn.feature_selection import f_regression\n",
    "\n"
   ]
  },
  {
   "cell_type": "code",
   "execution_count": 73,
   "metadata": {
    "collapsed": true
   },
   "outputs": [],
   "source": [
    "path ='D:/python_notebook/capstone/'"
   ]
  },
  {
   "cell_type": "code",
   "execution_count": 74,
   "metadata": {
    "collapsed": true
   },
   "outputs": [],
   "source": [
    "total = pd.read_csv(path + 'final_data(industry not added).csv')\n",
    "extra_data1=pd.read_csv('./extra_feature1.csv')\n",
    "extra_data2=pd.read_csv('./extra_feature2.csv')\n",
    "extra_data=pd.merge(extra_data1,extra_data2,on=['year','state'],how='outer')\n",
    "total=pd.merge(total,extra_data,on=['year','state'],how='left')\n",
    "total=total.loc[total.GeoName!='District of Columbia',:]\n",
    "total_merge=total.copy()\n"
   ]
  },
  {
   "cell_type": "code",
   "execution_count": 75,
   "metadata": {},
   "outputs": [
    {
     "name": "stdout",
     "output_type": "stream",
     "text": [
      "(1370, 11)\n",
      "(1300, 11)\n"
     ]
    }
   ],
   "source": [
    "#generate target variable\n",
    "new_target=pd.read_csv('./tagert.csv')\n",
    "new_target=new_target.drop_duplicates()\n",
    "new_target['opn_diff']=(new_target.open_establish-new_target.end_establish)\n",
    "new_target['exp_diff']=(new_target.expand_establish-new_target.contract_establish)\n",
    "new_target['total_diff']=(new_target.total_expand-new_target.total_contract)\n",
    "new_target=new_target[['state','year','opn_diff','exp_diff','total_diff',\n",
    "                       'open_establish','expand_establish','total_expand',\n",
    "                       'end_establish','contract_establish','total_contract']]\n",
    "multi_target=pd.DataFrame(new_target.groupby(['state','year'])[['opn_diff','exp_diff','total_diff',\n",
    "                       'open_establish','expand_establish','total_expand',\n",
    "                       'end_establish','contract_establish','total_contract']].sum()).reset_index()\n",
    "print(multi_target.shape)\n",
    "mask=(multi_target.state!='District of Columbia')&(multi_target.state!='Puerto Rico')&(multi_target.state!='Virgin Islands')\n",
    "multi_target=multi_target.loc[mask,:]\n",
    "print(multi_target.shape)\n",
    "#target_df=target_df.reset_index(drop=True)\n",
    "#target_df =target_df.set_index(['year'])\n"
   ]
  },
  {
   "cell_type": "code",
   "execution_count": 76,
   "metadata": {
    "collapsed": true
   },
   "outputs": [],
   "source": [
    "multi_target=multi_target.set_index(['year'])"
   ]
  },
  {
   "cell_type": "code",
   "execution_count": 77,
   "metadata": {
    "collapsed": true
   },
   "outputs": [],
   "source": [
    "features =total.drop(columns=['contract_establish','expand_establish','end_establish',\n",
    "                              'net_change','open_establish','total_contract','total_expand',\n",
    "                              'GeoName','state','year'])"
   ]
  },
  {
   "cell_type": "code",
   "execution_count": 78,
   "metadata": {},
   "outputs": [
    {
     "name": "stdout",
     "output_type": "stream",
     "text": [
      "feature number before dropping multicollinearity (1000, 213)\n",
      "feature number after dropping multicollinearity (1000, 123)\n"
     ]
    }
   ],
   "source": [
    "print('feature number before dropping multicollinearity',features.shape)\n",
    "corr_matrix =features.corr().abs()\n",
    "# Select upper triangle of correlation matrix\n",
    "upper = corr_matrix.where(np.triu(np.ones(corr_matrix.shape), k=1).astype(np.bool))\n",
    "# Find feature columns with correlation greater than 0.95\n",
    "to_drop = [column for column in upper.columns if any(upper[column] > 0.95)]\n",
    "# Drop features \n",
    "final_features =features.drop(columns=to_drop, axis=1)\n",
    "print('feature number after dropping multicollinearity',final_features.shape)"
   ]
  },
  {
   "cell_type": "code",
   "execution_count": 79,
   "metadata": {},
   "outputs": [
    {
     "name": "stdout",
     "output_type": "stream",
     "text": [
      "dropping high correlation features\n",
      "(1000, 216)\n",
      "(1000, 126)\n",
      "dropping process finished the final feature numbers\n"
     ]
    }
   ],
   "source": [
    "state_list =total.GeoName.unique().tolist()\n",
    "total =total.drop(columns =['contract_establish','expand_establish','end_establish',\n",
    "                              'net_change','open_establish','total_contract','total_expand'])\n",
    "print('dropping high correlation features')\n",
    "print(total.shape)\n",
    "total =total.drop(columns=to_drop, axis=1)\n",
    "print(total.shape)\n",
    "print('dropping process finished the final feature numbers')"
   ]
  },
  {
   "cell_type": "code",
   "execution_count": 80,
   "metadata": {
    "collapsed": true
   },
   "outputs": [],
   "source": [
    "def clean_state_data(total):\n",
    "    #df_1 =total_3.loc[total_3['GeoName'] == st_name]\n",
    "    df =total.copy()\n",
    "    df =df.set_index(['GeoName','year'])\n",
    "    df =df.replace({'(NA)': np.nan ,'(L)':np.nan ,0:np.nan})\n",
    "    df =df.drop(columns =['state'])\n",
    "    #check missing value \n",
    "    miss_col = df\n",
    "    miss_col = miss_col.isnull().sum(axis =0)/float(len(miss_col))\n",
    "    miss_col =miss_col.sort_values(ascending=False)\n",
    "    columns = df.columns\n",
    "    missing_value_df = pd.DataFrame({'percent_missing': miss_col})\n",
    "    missing_value_df['percent_missing'] =missing_value_df['percent_missing'].astype('float64')\n",
    "    \n",
    "    miss_col =missing_value_df.loc[(missing_value_df['percent_missing'] >0) \n",
    "                               &(missing_value_df['percent_missing'] <0.3)].index.tolist()  \n",
    "    #drop columns with large missing\n",
    "    del_list = missing_value_df.loc[(missing_value_df['percent_missing'] >=0.3)].index.tolist()\n",
    "    df = df.drop(columns=del_list)\n",
    "    df=df.astype(float)\n",
    "    df=df.apply(lambda x: x.fillna(x.mean()),axis=0)\n",
    "    df_2 = df.copy()\n",
    "    #numerical feature scaling\n",
    "    scaler = MinMaxScaler()\n",
    "    col =df_2.columns.values\n",
    "    df_2[col] = scaler.fit_transform(df_2[col]) \n",
    "    return df_2"
   ]
  },
  {
   "cell_type": "code",
   "execution_count": 81,
   "metadata": {
    "collapsed": true
   },
   "outputs": [],
   "source": [
    "total =clean_state_data(total)"
   ]
  },
  {
   "cell_type": "code",
   "execution_count": null,
   "metadata": {
    "collapsed": true
   },
   "outputs": [],
   "source": []
  },
  {
   "cell_type": "code",
   "execution_count": 82,
   "metadata": {
    "collapsed": true
   },
   "outputs": [],
   "source": [
    "state_group=total.groupby('GeoName')\n",
    "group_count=0\n",
    "for name, group in state_group:\n",
    "    shift1=group.shift(-1)\n",
    "    shift2=group.shift(-2)\n",
    "    change_rate=shift1-group\n",
    "    velocity_rate=shift2-shift1\n",
    "    change_rate=change_rate.reset_index()\n",
    "    velocity_rate=velocity_rate.reset_index()\n",
    "    change_rate['year']=list(range(1998,2018,1))\n",
    "    velocity_rate['year']=list(range(1999,2019,1))\n",
    "    change_col_name=[x if x=='GeoName' or x=='year' else 'change_rate:'+x for x in change_rate.columns ]\n",
    "    change_rate.columns=change_col_name\n",
    "    velocity_col_name=[x if x=='GeoName' or x=='year' else 'velocity of change:'+x for x in velocity_rate.columns ]\n",
    "    velocity_rate.columns=velocity_col_name\n",
    "    if group_count==0:\n",
    "        change_rate_df=change_rate\n",
    "        velocity_rate_df=velocity_rate\n",
    "    else:\n",
    "        change_rate_df=change_rate_df.append(change_rate)\n",
    "        velocity_rate_df=velocity_rate_df.append(velocity_rate)\n",
    "    group_count+=1  \n",
    "total_1year=pd.merge(total,change_rate_df,on=['GeoName','year'],how='inner')\n",
    "total_2year=pd.merge(total_1year,velocity_rate_df,on=['GeoName','year'])"
   ]
  },
  {
   "cell_type": "code",
   "execution_count": 83,
   "metadata": {
    "collapsed": true
   },
   "outputs": [],
   "source": [
    "def generate_X(total,lag_year):\n",
    "    total=total.set_index(['GeoName','year'])\n",
    "    total=total.reset_index(level='GeoName')\n",
    "    x_train_1 =total.loc[list(range(1997+lag_year,2012))]\n",
    "    x_test_1 =total.loc[[2012,2013,2014,2015]]\n",
    "    x_train =x_train_1.drop(columns =['GeoName'])\n",
    "    x_test  =x_test_1.drop(columns =['GeoName'])\n",
    "    x_predict=total.loc[[2016]]\n",
    "    print(x_train.shape)\n",
    "    print(x_test.shape)\n",
    "    return x_train,x_test\n",
    "\n",
    "def generate_Y(target_df,col_name,lag_year):\n",
    "    y_train=target_df.loc[list(range(1997+lag_year,2012)),col_name]\n",
    "    y_test =target_df.loc[[2013,2014,2015,2016],col_name]\n",
    "    return y_train,y_test\n"
   ]
  },
  {
   "cell_type": "code",
   "execution_count": 84,
   "metadata": {},
   "outputs": [
    {
     "name": "stdout",
     "output_type": "stream",
     "text": [
      "(700, 230)\n",
      "(200, 230)\n",
      "(650, 345)\n",
      "(200, 345)\n"
     ]
    }
   ],
   "source": [
    "x_train_1,x_test_1=generate_X(total_1year,1)\n",
    "x_train_2,x_test_2=generate_X(total_2year,2)"
   ]
  },
  {
   "cell_type": "code",
   "execution_count": 85,
   "metadata": {},
   "outputs": [
    {
     "name": "stdout",
     "output_type": "stream",
     "text": [
      "(700,)\n",
      "(200,)\n",
      "(650,)\n",
      "(200,)\n",
      "(700,)\n",
      "(200,)\n",
      "(650,)\n",
      "(200,)\n",
      "(700,)\n",
      "(200,)\n",
      "(650,)\n",
      "(200,)\n",
      "(700,)\n",
      "(200,)\n",
      "(650,)\n",
      "(200,)\n",
      "(700,)\n",
      "(200,)\n",
      "(650,)\n",
      "(200,)\n",
      "(700,)\n",
      "(200,)\n",
      "(650,)\n",
      "(200,)\n",
      "(700,)\n",
      "(200,)\n",
      "(650,)\n",
      "(200,)\n",
      "(700,)\n",
      "(200,)\n",
      "(650,)\n",
      "(200,)\n",
      "(700,)\n",
      "(200,)\n",
      "(650,)\n",
      "(200,)\n"
     ]
    },
    {
     "data": {
      "text/plain": [
       "dict_keys(['opn_diff', 'exp_diff', 'total_diff', 'open_establish', 'expand_establish', 'total_expand', 'end_establish', 'contract_establish', 'total_contract'])"
      ]
     },
     "execution_count": 85,
     "metadata": {},
     "output_type": "execute_result"
    }
   ],
   "source": [
    "y_list=['opn_diff','exp_diff','total_diff',\n",
    "                       'open_establish','expand_establish','total_expand',\n",
    "                       'end_establish','contract_establish','total_contract']\n",
    "y_dict={}\n",
    "for y in y_list:\n",
    "    temp_data=[]\n",
    "    for lag_year in [1,2]:\n",
    "        temp_y_train,temp_y_test=generate_Y(multi_target,y,lag_year)\n",
    "        temp_data.append(temp_y_train)\n",
    "        temp_data.append(temp_y_test)\n",
    "        print(temp_y_train.shape)\n",
    "        print(temp_y_test.shape)\n",
    "    y_dict[y]=temp_data\n",
    "y_dict.keys()"
   ]
  },
  {
   "cell_type": "code",
   "execution_count": 86,
   "metadata": {
    "collapsed": true
   },
   "outputs": [],
   "source": [
    "Lr=LinearRegression()\n",
    "lasso=Lasso()\n",
    "ridge=Ridge()\n",
    "rfc=RandomForestRegressor()\n",
    "xgb=XGBRegressor()\n",
    "Kbest=SelectKBest(f_regression, k=20)\n",
    "lr_pipe=Pipeline([('Kbest',Kbest),('lr',Lr)])\n",
    "lr_parameters={\n",
    "                'Kbest__k':[20,30,40]\n",
    "}\n",
    "lasso_parameters={\n",
    "                'alpha':[0.01,0.1,1,10]}\n",
    "rfc_parameters= {\n",
    "                 'max_depth': [7],\n",
    "                 #'max_depth': [5,7,11,15],\n",
    "                 #'max_features':[0.02,0.05,0.1,0.15], \n",
    "                'max_features':[0.05,0.1], \n",
    "                'n_estimators':[10]\n",
    "                #'n_estimators':[10,15,20]\n",
    "             }\n",
    "ridge_parameters={\n",
    "                'alpha':[0.01,0.1,1,10]\n",
    "}\n",
    "\n",
    "xgb_parameters = {\n",
    "                #'min_child_weight':range(1,6,2),\n",
    "                'min_child_weight':[5],\n",
    "                #'max_depth': [5,10,15],\n",
    "                'max_depth': [10],\n",
    "                'subsample':[0.7],\n",
    "                #'subsample':[0.6,0.7],\n",
    "                'objective':['reg:linear'],\n",
    "                'learning_rate':[0.1],\n",
    "                'n_estimators':[150],\n",
    "                'gamma':[0.4]\n",
    "             }\n",
    "model_dict={'lr':[lr_pipe,lr_parameters],'lasso':[lasso,lasso_parameters],\n",
    "            'ridge':[ridge,ridge_parameters],'rfc':[rfc,rfc_parameters],'xgb':[xgb,xgb_parameters]}\n",
    "                                 \n",
    "model_dict1={'rfc':[rfc,rfc_parameters],'xgb':[xgb,xgb_parameters]}"
   ]
  },
  {
   "cell_type": "code",
   "execution_count": null,
   "metadata": {},
   "outputs": [],
   "source": []
  },
  {
   "cell_type": "code",
   "execution_count": 87,
   "metadata": {
    "collapsed": true
   },
   "outputs": [],
   "source": [
    "def parameter_tunning(model,parameter_dict,x_train,y_train):\n",
    "    grid_clf = GridSearchCV(model, parameter_dict, cv=5,scoring='neg_mean_squared_error',n_jobs=4)\n",
    "    gcv=grid_clf.fit(x_train, y_train)\n",
    "    best_parameters=gcv.best_params_\n",
    "    best_scores=gcv.best_score_\n",
    "    #print(best_scores)\n",
    "    return best_parameters"
   ]
  },
  {
   "cell_type": "code",
   "execution_count": 88,
   "metadata": {
    "collapsed": true
   },
   "outputs": [],
   "source": [
    "def perfomance_model(x_train,y_train,x_test,y_test,regressor):\n",
    "    regressor.fit(x_train,y_train)\n",
    "    y_test_pred=regressor.predict(x_test)\n",
    "    y_train_pred=regressor.predict(x_train)\n",
    "    mse=mean_squared_error(y_test_pred,y_test)\n",
    "    return mse\n"
   ]
  },
  {
   "cell_type": "code",
   "execution_count": 94,
   "metadata": {},
   "outputs": [
    {
     "name": "stdout",
     "output_type": "stream",
     "text": [
      "opn_diff\n",
      "tunning parameters for lr\n",
      "tunning parameters for lasso\n",
      "tunning parameters for ridge\n",
      "tunning parameters for rfc\n",
      "tunning parameters for xgb\n"
     ]
    },
    {
     "data": {
      "text/html": [
       "<div>\n",
       "<style scoped>\n",
       "    .dataframe tbody tr th:only-of-type {\n",
       "        vertical-align: middle;\n",
       "    }\n",
       "\n",
       "    .dataframe tbody tr th {\n",
       "        vertical-align: top;\n",
       "    }\n",
       "\n",
       "    .dataframe thead th {\n",
       "        text-align: right;\n",
       "    }\n",
       "</style>\n",
       "<table border=\"1\" class=\"dataframe\">\n",
       "  <thead>\n",
       "    <tr style=\"text-align: right;\">\n",
       "      <th></th>\n",
       "      <th>mse with change features</th>\n",
       "      <th>mse with rate of change features</th>\n",
       "    </tr>\n",
       "  </thead>\n",
       "  <tbody>\n",
       "    <tr>\n",
       "      <th>lr</th>\n",
       "      <td>2.206336e+16</td>\n",
       "      <td>9.288366e+08</td>\n",
       "    </tr>\n",
       "    <tr>\n",
       "      <th>lasso</th>\n",
       "      <td>1.348598e+08</td>\n",
       "      <td>1.233339e+08</td>\n",
       "    </tr>\n",
       "    <tr>\n",
       "      <th>ridge</th>\n",
       "      <td>1.361297e+08</td>\n",
       "      <td>1.488001e+08</td>\n",
       "    </tr>\n",
       "    <tr>\n",
       "      <th>rfc</th>\n",
       "      <td>2.095683e+08</td>\n",
       "      <td>1.881445e+08</td>\n",
       "    </tr>\n",
       "    <tr>\n",
       "      <th>xgb</th>\n",
       "      <td>1.468561e+08</td>\n",
       "      <td>1.758504e+08</td>\n",
       "    </tr>\n",
       "  </tbody>\n",
       "</table>\n",
       "</div>"
      ],
      "text/plain": [
       "       mse with change features  mse with rate of change features\n",
       "lr                 2.206336e+16                      9.288366e+08\n",
       "lasso              1.348598e+08                      1.233339e+08\n",
       "ridge              1.361297e+08                      1.488001e+08\n",
       "rfc                2.095683e+08                      1.881445e+08\n",
       "xgb                1.468561e+08                      1.758504e+08"
      ]
     },
     "metadata": {},
     "output_type": "display_data"
    },
    {
     "name": "stdout",
     "output_type": "stream",
     "text": [
      "exp_diff\n",
      "tunning parameters for lr\n",
      "tunning parameters for lasso\n",
      "tunning parameters for ridge\n",
      "tunning parameters for rfc\n",
      "tunning parameters for xgb\n"
     ]
    },
    {
     "data": {
      "text/html": [
       "<div>\n",
       "<style scoped>\n",
       "    .dataframe tbody tr th:only-of-type {\n",
       "        vertical-align: middle;\n",
       "    }\n",
       "\n",
       "    .dataframe tbody tr th {\n",
       "        vertical-align: top;\n",
       "    }\n",
       "\n",
       "    .dataframe thead th {\n",
       "        text-align: right;\n",
       "    }\n",
       "</style>\n",
       "<table border=\"1\" class=\"dataframe\">\n",
       "  <thead>\n",
       "    <tr style=\"text-align: right;\">\n",
       "      <th></th>\n",
       "      <th>mse with change features</th>\n",
       "      <th>mse with rate of change features</th>\n",
       "    </tr>\n",
       "  </thead>\n",
       "  <tbody>\n",
       "    <tr>\n",
       "      <th>lr</th>\n",
       "      <td>2.494244e+17</td>\n",
       "      <td>3.765196e+09</td>\n",
       "    </tr>\n",
       "    <tr>\n",
       "      <th>lasso</th>\n",
       "      <td>5.907832e+11</td>\n",
       "      <td>5.435685e+11</td>\n",
       "    </tr>\n",
       "    <tr>\n",
       "      <th>ridge</th>\n",
       "      <td>1.543607e+10</td>\n",
       "      <td>2.751956e+10</td>\n",
       "    </tr>\n",
       "    <tr>\n",
       "      <th>rfc</th>\n",
       "      <td>2.454486e+09</td>\n",
       "      <td>3.955809e+09</td>\n",
       "    </tr>\n",
       "    <tr>\n",
       "      <th>xgb</th>\n",
       "      <td>3.256801e+09</td>\n",
       "      <td>3.811726e+09</td>\n",
       "    </tr>\n",
       "  </tbody>\n",
       "</table>\n",
       "</div>"
      ],
      "text/plain": [
       "       mse with change features  mse with rate of change features\n",
       "lr                 2.494244e+17                      3.765196e+09\n",
       "lasso              5.907832e+11                      5.435685e+11\n",
       "ridge              1.543607e+10                      2.751956e+10\n",
       "rfc                2.454486e+09                      3.955809e+09\n",
       "xgb                3.256801e+09                      3.811726e+09"
      ]
     },
     "metadata": {},
     "output_type": "display_data"
    },
    {
     "name": "stdout",
     "output_type": "stream",
     "text": [
      "total_diff\n",
      "tunning parameters for lr\n",
      "tunning parameters for lasso\n",
      "tunning parameters for ridge\n",
      "tunning parameters for rfc\n",
      "tunning parameters for xgb\n"
     ]
    },
    {
     "data": {
      "text/html": [
       "<div>\n",
       "<style scoped>\n",
       "    .dataframe tbody tr th:only-of-type {\n",
       "        vertical-align: middle;\n",
       "    }\n",
       "\n",
       "    .dataframe tbody tr th {\n",
       "        vertical-align: top;\n",
       "    }\n",
       "\n",
       "    .dataframe thead th {\n",
       "        text-align: right;\n",
       "    }\n",
       "</style>\n",
       "<table border=\"1\" class=\"dataframe\">\n",
       "  <thead>\n",
       "    <tr style=\"text-align: right;\">\n",
       "      <th></th>\n",
       "      <th>mse with change features</th>\n",
       "      <th>mse with rate of change features</th>\n",
       "    </tr>\n",
       "  </thead>\n",
       "  <tbody>\n",
       "    <tr>\n",
       "      <th>lr</th>\n",
       "      <td>4.584242e+17</td>\n",
       "      <td>5.035452e+09</td>\n",
       "    </tr>\n",
       "    <tr>\n",
       "      <th>lasso</th>\n",
       "      <td>2.196779e+11</td>\n",
       "      <td>2.209126e+11</td>\n",
       "    </tr>\n",
       "    <tr>\n",
       "      <th>ridge</th>\n",
       "      <td>1.848943e+10</td>\n",
       "      <td>5.263747e+09</td>\n",
       "    </tr>\n",
       "    <tr>\n",
       "      <th>rfc</th>\n",
       "      <td>4.607150e+09</td>\n",
       "      <td>4.405607e+09</td>\n",
       "    </tr>\n",
       "    <tr>\n",
       "      <th>xgb</th>\n",
       "      <td>6.450515e+09</td>\n",
       "      <td>5.049656e+09</td>\n",
       "    </tr>\n",
       "  </tbody>\n",
       "</table>\n",
       "</div>"
      ],
      "text/plain": [
       "       mse with change features  mse with rate of change features\n",
       "lr                 4.584242e+17                      5.035452e+09\n",
       "lasso              2.196779e+11                      2.209126e+11\n",
       "ridge              1.848943e+10                      5.263747e+09\n",
       "rfc                4.607150e+09                      4.405607e+09\n",
       "xgb                6.450515e+09                      5.049656e+09"
      ]
     },
     "metadata": {},
     "output_type": "display_data"
    },
    {
     "name": "stdout",
     "output_type": "stream",
     "text": [
      "open_establish\n",
      "tunning parameters for lr\n",
      "tunning parameters for lasso\n",
      "tunning parameters for ridge\n",
      "tunning parameters for rfc\n",
      "tunning parameters for xgb\n"
     ]
    },
    {
     "data": {
      "text/html": [
       "<div>\n",
       "<style scoped>\n",
       "    .dataframe tbody tr th:only-of-type {\n",
       "        vertical-align: middle;\n",
       "    }\n",
       "\n",
       "    .dataframe tbody tr th {\n",
       "        vertical-align: top;\n",
       "    }\n",
       "\n",
       "    .dataframe thead th {\n",
       "        text-align: right;\n",
       "    }\n",
       "</style>\n",
       "<table border=\"1\" class=\"dataframe\">\n",
       "  <thead>\n",
       "    <tr style=\"text-align: right;\">\n",
       "      <th></th>\n",
       "      <th>mse with change features</th>\n",
       "      <th>mse with rate of change features</th>\n",
       "    </tr>\n",
       "  </thead>\n",
       "  <tbody>\n",
       "    <tr>\n",
       "      <th>lr</th>\n",
       "      <td>4.274966e+16</td>\n",
       "      <td>7.090547e+14</td>\n",
       "    </tr>\n",
       "    <tr>\n",
       "      <th>lasso</th>\n",
       "      <td>1.096134e+09</td>\n",
       "      <td>9.286999e+08</td>\n",
       "    </tr>\n",
       "    <tr>\n",
       "      <th>ridge</th>\n",
       "      <td>8.996701e+08</td>\n",
       "      <td>8.962896e+08</td>\n",
       "    </tr>\n",
       "    <tr>\n",
       "      <th>rfc</th>\n",
       "      <td>2.126524e+09</td>\n",
       "      <td>9.815422e+08</td>\n",
       "    </tr>\n",
       "    <tr>\n",
       "      <th>xgb</th>\n",
       "      <td>1.199605e+09</td>\n",
       "      <td>1.271864e+09</td>\n",
       "    </tr>\n",
       "  </tbody>\n",
       "</table>\n",
       "</div>"
      ],
      "text/plain": [
       "       mse with change features  mse with rate of change features\n",
       "lr                 4.274966e+16                      7.090547e+14\n",
       "lasso              1.096134e+09                      9.286999e+08\n",
       "ridge              8.996701e+08                      8.962896e+08\n",
       "rfc                2.126524e+09                      9.815422e+08\n",
       "xgb                1.199605e+09                      1.271864e+09"
      ]
     },
     "metadata": {},
     "output_type": "display_data"
    },
    {
     "name": "stdout",
     "output_type": "stream",
     "text": [
      "expand_establish\n",
      "tunning parameters for lr\n",
      "tunning parameters for lasso\n",
      "tunning parameters for ridge\n",
      "tunning parameters for rfc\n",
      "tunning parameters for xgb\n"
     ]
    },
    {
     "data": {
      "text/html": [
       "<div>\n",
       "<style scoped>\n",
       "    .dataframe tbody tr th:only-of-type {\n",
       "        vertical-align: middle;\n",
       "    }\n",
       "\n",
       "    .dataframe tbody tr th {\n",
       "        vertical-align: top;\n",
       "    }\n",
       "\n",
       "    .dataframe thead th {\n",
       "        text-align: right;\n",
       "    }\n",
       "</style>\n",
       "<table border=\"1\" class=\"dataframe\">\n",
       "  <thead>\n",
       "    <tr style=\"text-align: right;\">\n",
       "      <th></th>\n",
       "      <th>mse with change features</th>\n",
       "      <th>mse with rate of change features</th>\n",
       "    </tr>\n",
       "  </thead>\n",
       "  <tbody>\n",
       "    <tr>\n",
       "      <th>lr</th>\n",
       "      <td>5.742707e+15</td>\n",
       "      <td>1.970139e+16</td>\n",
       "    </tr>\n",
       "    <tr>\n",
       "      <th>lasso</th>\n",
       "      <td>8.630848e+10</td>\n",
       "      <td>7.287068e+10</td>\n",
       "    </tr>\n",
       "    <tr>\n",
       "      <th>ridge</th>\n",
       "      <td>3.928904e+10</td>\n",
       "      <td>4.680895e+10</td>\n",
       "    </tr>\n",
       "    <tr>\n",
       "      <th>rfc</th>\n",
       "      <td>4.289723e+10</td>\n",
       "      <td>2.929086e+10</td>\n",
       "    </tr>\n",
       "    <tr>\n",
       "      <th>xgb</th>\n",
       "      <td>2.413914e+10</td>\n",
       "      <td>2.988239e+10</td>\n",
       "    </tr>\n",
       "  </tbody>\n",
       "</table>\n",
       "</div>"
      ],
      "text/plain": [
       "       mse with change features  mse with rate of change features\n",
       "lr                 5.742707e+15                      1.970139e+16\n",
       "lasso              8.630848e+10                      7.287068e+10\n",
       "ridge              3.928904e+10                      4.680895e+10\n",
       "rfc                4.289723e+10                      2.929086e+10\n",
       "xgb                2.413914e+10                      2.988239e+10"
      ]
     },
     "metadata": {},
     "output_type": "display_data"
    },
    {
     "name": "stdout",
     "output_type": "stream",
     "text": [
      "total_expand\n",
      "tunning parameters for lr\n",
      "tunning parameters for lasso\n",
      "tunning parameters for ridge\n",
      "tunning parameters for rfc\n",
      "tunning parameters for xgb\n"
     ]
    },
    {
     "data": {
      "text/html": [
       "<div>\n",
       "<style scoped>\n",
       "    .dataframe tbody tr th:only-of-type {\n",
       "        vertical-align: middle;\n",
       "    }\n",
       "\n",
       "    .dataframe tbody tr th {\n",
       "        vertical-align: top;\n",
       "    }\n",
       "\n",
       "    .dataframe thead th {\n",
       "        text-align: right;\n",
       "    }\n",
       "</style>\n",
       "<table border=\"1\" class=\"dataframe\">\n",
       "  <thead>\n",
       "    <tr style=\"text-align: right;\">\n",
       "      <th></th>\n",
       "      <th>mse with change features</th>\n",
       "      <th>mse with rate of change features</th>\n",
       "    </tr>\n",
       "  </thead>\n",
       "  <tbody>\n",
       "    <tr>\n",
       "      <th>lr</th>\n",
       "      <td>3.874735e+14</td>\n",
       "      <td>1.015765e+15</td>\n",
       "    </tr>\n",
       "    <tr>\n",
       "      <th>lasso</th>\n",
       "      <td>8.521608e+10</td>\n",
       "      <td>6.291142e+10</td>\n",
       "    </tr>\n",
       "    <tr>\n",
       "      <th>ridge</th>\n",
       "      <td>2.224256e+10</td>\n",
       "      <td>4.268990e+10</td>\n",
       "    </tr>\n",
       "    <tr>\n",
       "      <th>rfc</th>\n",
       "      <td>2.775365e+10</td>\n",
       "      <td>3.136334e+10</td>\n",
       "    </tr>\n",
       "    <tr>\n",
       "      <th>xgb</th>\n",
       "      <td>4.009152e+10</td>\n",
       "      <td>4.274896e+10</td>\n",
       "    </tr>\n",
       "  </tbody>\n",
       "</table>\n",
       "</div>"
      ],
      "text/plain": [
       "       mse with change features  mse with rate of change features\n",
       "lr                 3.874735e+14                      1.015765e+15\n",
       "lasso              8.521608e+10                      6.291142e+10\n",
       "ridge              2.224256e+10                      4.268990e+10\n",
       "rfc                2.775365e+10                      3.136334e+10\n",
       "xgb                4.009152e+10                      4.274896e+10"
      ]
     },
     "metadata": {},
     "output_type": "display_data"
    },
    {
     "name": "stdout",
     "output_type": "stream",
     "text": [
      "end_establish\n",
      "tunning parameters for lr\n",
      "tunning parameters for lasso\n",
      "tunning parameters for ridge\n",
      "tunning parameters for rfc\n",
      "tunning parameters for xgb\n"
     ]
    },
    {
     "data": {
      "text/html": [
       "<div>\n",
       "<style scoped>\n",
       "    .dataframe tbody tr th:only-of-type {\n",
       "        vertical-align: middle;\n",
       "    }\n",
       "\n",
       "    .dataframe tbody tr th {\n",
       "        vertical-align: top;\n",
       "    }\n",
       "\n",
       "    .dataframe thead th {\n",
       "        text-align: right;\n",
       "    }\n",
       "</style>\n",
       "<table border=\"1\" class=\"dataframe\">\n",
       "  <thead>\n",
       "    <tr style=\"text-align: right;\">\n",
       "      <th></th>\n",
       "      <th>mse with change features</th>\n",
       "      <th>mse with rate of change features</th>\n",
       "    </tr>\n",
       "  </thead>\n",
       "  <tbody>\n",
       "    <tr>\n",
       "      <th>lr</th>\n",
       "      <td>3.629350e+16</td>\n",
       "      <td>6.901277e+16</td>\n",
       "    </tr>\n",
       "    <tr>\n",
       "      <th>lasso</th>\n",
       "      <td>1.115249e+09</td>\n",
       "      <td>1.280486e+09</td>\n",
       "    </tr>\n",
       "    <tr>\n",
       "      <th>ridge</th>\n",
       "      <td>9.097556e+08</td>\n",
       "      <td>9.889702e+08</td>\n",
       "    </tr>\n",
       "    <tr>\n",
       "      <th>rfc</th>\n",
       "      <td>2.098225e+09</td>\n",
       "      <td>2.665354e+09</td>\n",
       "    </tr>\n",
       "    <tr>\n",
       "      <th>xgb</th>\n",
       "      <td>5.970404e+08</td>\n",
       "      <td>7.136242e+08</td>\n",
       "    </tr>\n",
       "  </tbody>\n",
       "</table>\n",
       "</div>"
      ],
      "text/plain": [
       "       mse with change features  mse with rate of change features\n",
       "lr                 3.629350e+16                      6.901277e+16\n",
       "lasso              1.115249e+09                      1.280486e+09\n",
       "ridge              9.097556e+08                      9.889702e+08\n",
       "rfc                2.098225e+09                      2.665354e+09\n",
       "xgb                5.970404e+08                      7.136242e+08"
      ]
     },
     "metadata": {},
     "output_type": "display_data"
    },
    {
     "name": "stdout",
     "output_type": "stream",
     "text": [
      "contract_establish\n",
      "tunning parameters for lr\n",
      "tunning parameters for lasso\n",
      "tunning parameters for ridge\n",
      "tunning parameters for rfc\n",
      "tunning parameters for xgb\n"
     ]
    },
    {
     "data": {
      "text/html": [
       "<div>\n",
       "<style scoped>\n",
       "    .dataframe tbody tr th:only-of-type {\n",
       "        vertical-align: middle;\n",
       "    }\n",
       "\n",
       "    .dataframe tbody tr th {\n",
       "        vertical-align: top;\n",
       "    }\n",
       "\n",
       "    .dataframe thead th {\n",
       "        text-align: right;\n",
       "    }\n",
       "</style>\n",
       "<table border=\"1\" class=\"dataframe\">\n",
       "  <thead>\n",
       "    <tr style=\"text-align: right;\">\n",
       "      <th></th>\n",
       "      <th>mse with change features</th>\n",
       "      <th>mse with rate of change features</th>\n",
       "    </tr>\n",
       "  </thead>\n",
       "  <tbody>\n",
       "    <tr>\n",
       "      <th>lr</th>\n",
       "      <td>2.217240e+16</td>\n",
       "      <td>1.024806e+17</td>\n",
       "    </tr>\n",
       "    <tr>\n",
       "      <th>lasso</th>\n",
       "      <td>7.451255e+10</td>\n",
       "      <td>8.141061e+10</td>\n",
       "    </tr>\n",
       "    <tr>\n",
       "      <th>ridge</th>\n",
       "      <td>8.606061e+09</td>\n",
       "      <td>4.828556e+09</td>\n",
       "    </tr>\n",
       "    <tr>\n",
       "      <th>rfc</th>\n",
       "      <td>1.250492e+10</td>\n",
       "      <td>2.734062e+10</td>\n",
       "    </tr>\n",
       "    <tr>\n",
       "      <th>xgb</th>\n",
       "      <td>1.462964e+10</td>\n",
       "      <td>2.078231e+10</td>\n",
       "    </tr>\n",
       "  </tbody>\n",
       "</table>\n",
       "</div>"
      ],
      "text/plain": [
       "       mse with change features  mse with rate of change features\n",
       "lr                 2.217240e+16                      1.024806e+17\n",
       "lasso              7.451255e+10                      8.141061e+10\n",
       "ridge              8.606061e+09                      4.828556e+09\n",
       "rfc                1.250492e+10                      2.734062e+10\n",
       "xgb                1.462964e+10                      2.078231e+10"
      ]
     },
     "metadata": {},
     "output_type": "display_data"
    },
    {
     "name": "stdout",
     "output_type": "stream",
     "text": [
      "total_contract\n",
      "tunning parameters for lr\n",
      "tunning parameters for lasso\n",
      "tunning parameters for ridge\n",
      "tunning parameters for rfc\n",
      "tunning parameters for xgb\n"
     ]
    },
    {
     "data": {
      "text/html": [
       "<div>\n",
       "<style scoped>\n",
       "    .dataframe tbody tr th:only-of-type {\n",
       "        vertical-align: middle;\n",
       "    }\n",
       "\n",
       "    .dataframe tbody tr th {\n",
       "        vertical-align: top;\n",
       "    }\n",
       "\n",
       "    .dataframe thead th {\n",
       "        text-align: right;\n",
       "    }\n",
       "</style>\n",
       "<table border=\"1\" class=\"dataframe\">\n",
       "  <thead>\n",
       "    <tr style=\"text-align: right;\">\n",
       "      <th></th>\n",
       "      <th>mse with change features</th>\n",
       "      <th>mse with rate of change features</th>\n",
       "    </tr>\n",
       "  </thead>\n",
       "  <tbody>\n",
       "    <tr>\n",
       "      <th>lr</th>\n",
       "      <td>7.396821e+15</td>\n",
       "      <td>1.008228e+14</td>\n",
       "    </tr>\n",
       "    <tr>\n",
       "      <th>lasso</th>\n",
       "      <td>5.256089e+10</td>\n",
       "      <td>6.155794e+10</td>\n",
       "    </tr>\n",
       "    <tr>\n",
       "      <th>ridge</th>\n",
       "      <td>9.794532e+09</td>\n",
       "      <td>5.565392e+09</td>\n",
       "    </tr>\n",
       "    <tr>\n",
       "      <th>rfc</th>\n",
       "      <td>4.160525e+10</td>\n",
       "      <td>3.013355e+10</td>\n",
       "    </tr>\n",
       "    <tr>\n",
       "      <th>xgb</th>\n",
       "      <td>2.936909e+10</td>\n",
       "      <td>2.992489e+10</td>\n",
       "    </tr>\n",
       "  </tbody>\n",
       "</table>\n",
       "</div>"
      ],
      "text/plain": [
       "       mse with change features  mse with rate of change features\n",
       "lr                 7.396821e+15                      1.008228e+14\n",
       "lasso              5.256089e+10                      6.155794e+10\n",
       "ridge              9.794532e+09                      5.565392e+09\n",
       "rfc                4.160525e+10                      3.013355e+10\n",
       "xgb                2.936909e+10                      2.992489e+10"
      ]
     },
     "metadata": {},
     "output_type": "display_data"
    }
   ],
   "source": [
    "for target,data in y_dict.items():\n",
    "    print(target)\n",
    "    performance_dct={}\n",
    "    for model_name,model in model_dict.items():\n",
    "        print('tunning parameters for '+str(model_name))\n",
    "        param1=parameter_tunning(model[0],model[1],x_train_1,data[0])\n",
    "        param2=parameter_tunning(model[0],model[1],x_train_2,data[2])\n",
    "        mse_1=perfomance_model(x_train_1,data[0],x_test_1,data[1],model[0].set_params(**param1))\n",
    "        mse_2=perfomance_model(x_train_2,data[2],x_test_2,data[3],model[0].set_params(**param2))\n",
    "        result_list=[mse_1,mse_2]\n",
    "        performance_dct[model_name]=result_list  \n",
    "        performance_df=pd.DataFrame(performance_dct)\n",
    "        performance_df=performance_df.T\n",
    "        performance_df.columns=['mse with change features','mse with rate of change features']\n",
    "    display(performance_df)"
   ]
  },
  {
   "cell_type": "code",
   "execution_count": 92,
   "metadata": {},
   "outputs": [
    {
     "data": {
      "text/plain": [
       "{'Kbest__k': 40}"
      ]
     },
     "execution_count": 92,
     "metadata": {},
     "output_type": "execute_result"
    }
   ],
   "source": [
    "# using linear regressiong tends to use large K to "
   ]
  },
  {
   "cell_type": "code",
   "execution_count": 93,
   "metadata": {},
   "outputs": [
    {
     "data": {
      "text/plain": [
       "{'Kbest__k': 30}"
      ]
     },
     "execution_count": 93,
     "metadata": {},
     "output_type": "execute_result"
    }
   ],
   "source": []
  }
 ],
 "metadata": {
  "kernelspec": {
   "display_name": "Python 3",
   "language": "python",
   "name": "python3"
  },
  "language_info": {
   "codemirror_mode": {
    "name": "ipython",
    "version": 3
   },
   "file_extension": ".py",
   "mimetype": "text/x-python",
   "name": "python",
   "nbconvert_exporter": "python",
   "pygments_lexer": "ipython3",
   "version": "3.6.3"
  }
 },
 "nbformat": 4,
 "nbformat_minor": 2
}
